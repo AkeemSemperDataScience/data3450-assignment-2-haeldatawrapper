{
 "cells": [
  {
   "cell_type": "code",
   "execution_count": 1,
   "metadata": {},
   "outputs": [
    {
     "ename": "ModuleNotFoundError",
     "evalue": "No module named 'scipy'",
     "output_type": "error",
     "traceback": [
      "\u001b[31m---------------------------------------------------------------------------\u001b[39m",
      "\u001b[31mModuleNotFoundError\u001b[39m                       Traceback (most recent call last)",
      "\u001b[36mCell\u001b[39m\u001b[36m \u001b[39m\u001b[32mIn[1]\u001b[39m\u001b[32m, line 6\u001b[39m\n\u001b[32m      4\u001b[39m \u001b[38;5;28;01mimport\u001b[39;00m\u001b[38;5;250m \u001b[39m\u001b[34;01mnumpy\u001b[39;00m\u001b[38;5;250m \u001b[39m\u001b[38;5;28;01mas\u001b[39;00m\u001b[38;5;250m \u001b[39m\u001b[34;01mnp\u001b[39;00m\n\u001b[32m      5\u001b[39m \u001b[38;5;28;01mimport\u001b[39;00m\u001b[38;5;250m \u001b[39m\u001b[34;01mmath\u001b[39;00m\n\u001b[32m----> \u001b[39m\u001b[32m6\u001b[39m \u001b[38;5;28;01mimport\u001b[39;00m\u001b[38;5;250m \u001b[39m\u001b[34;01mscipy\u001b[39;00m\u001b[34;01m.\u001b[39;00m\u001b[34;01mstats\u001b[39;00m\u001b[38;5;250m \u001b[39m\u001b[38;5;28;01mas\u001b[39;00m\u001b[38;5;250m \u001b[39m\u001b[34;01mss\u001b[39;00m\n\u001b[32m      7\u001b[39m \u001b[38;5;28;01mimport\u001b[39;00m\u001b[38;5;250m \u001b[39m\u001b[34;01mthinkplot\u001b[39;00m\n\u001b[32m      8\u001b[39m \u001b[38;5;28;01mimport\u001b[39;00m\u001b[38;5;250m \u001b[39m\u001b[34;01mthinkstats2\u001b[39;00m\n",
      "\u001b[31mModuleNotFoundError\u001b[39m: No module named 'scipy'"
     ]
    }
   ],
   "source": [
    "#import thinkplot\n",
    "#import thinkstats2\n",
    "import pandas as pd\n",
    "import numpy as np\n",
    "import math\n",
    "import scipy.stats as ss\n",
    "import thinkplot\n",
    "import thinkstats2\n",
    "\n",
    "##Seaborn for fancy plots. \n",
    "import matplotlib.pyplot as plt\n",
    "import seaborn as sns\n",
    "plt.rcParams[\"figure.figsize\"] = (15,5)"
   ]
  },
  {
   "cell_type": "markdown",
   "metadata": {},
   "source": [
    "### Dear Akeem, I originally did this in a different github environment since this once gives me a lot of trouble with the libraries. "
   ]
  },
  {
   "cell_type": "markdown",
   "metadata": {},
   "source": [
    "<h1>Assignment 2: Life Expectancy and You!</h1>\n",
    "\n",
    "<b>Instructions:</b>\n",
    "<ul>\n",
    "<li>Use the worksheet below to act as a guide to exploring and examining the data in the dataset.\n",
    "<li>Try to make things easy to read. Look at the formatting stuff above. \n",
    "<li>As long as you do what is asked, you can do things in many different ways. You may need to do a little searching. \n",
    "</ul>\n",
    "\n",
    "### Please Use Formatting to Make it Clear What I Should be Looking at! Please!!! I Beg You!!!"
   ]
  },
  {
   "cell_type": "code",
   "execution_count": 2,
   "metadata": {},
   "outputs": [
    {
     "data": {
      "text/html": [
       "<div>\n",
       "<style scoped>\n",
       "    .dataframe tbody tr th:only-of-type {\n",
       "        vertical-align: middle;\n",
       "    }\n",
       "\n",
       "    .dataframe tbody tr th {\n",
       "        vertical-align: top;\n",
       "    }\n",
       "\n",
       "    .dataframe thead th {\n",
       "        text-align: right;\n",
       "    }\n",
       "</style>\n",
       "<table border=\"1\" class=\"dataframe\">\n",
       "  <thead>\n",
       "    <tr style=\"text-align: right;\">\n",
       "      <th></th>\n",
       "      <th>Country</th>\n",
       "      <th>isDeveloped</th>\n",
       "      <th>Lifeexpectancy</th>\n",
       "      <th>AdultMortality</th>\n",
       "      <th>infantdeaths</th>\n",
       "      <th>Alcohol</th>\n",
       "      <th>HepatitisB</th>\n",
       "      <th>Measles</th>\n",
       "      <th>BMI</th>\n",
       "      <th>under-fivedeaths</th>\n",
       "      <th>Polio</th>\n",
       "      <th>Diphtheria</th>\n",
       "      <th>GDP</th>\n",
       "      <th>Population</th>\n",
       "      <th>Schooling</th>\n",
       "    </tr>\n",
       "  </thead>\n",
       "  <tbody>\n",
       "    <tr>\n",
       "      <th>0</th>\n",
       "      <td>Afghanistan</td>\n",
       "      <td>0.0</td>\n",
       "      <td>58.19375</td>\n",
       "      <td>269.0625</td>\n",
       "      <td>78.2500</td>\n",
       "      <td>0.014375</td>\n",
       "      <td>64.562500</td>\n",
       "      <td>2362.2500</td>\n",
       "      <td>15.51875</td>\n",
       "      <td>107.5625</td>\n",
       "      <td>48.3750</td>\n",
       "      <td>52.3125</td>\n",
       "      <td>4.136734e+09</td>\n",
       "      <td>9.972260e+06</td>\n",
       "      <td>8.21250</td>\n",
       "    </tr>\n",
       "    <tr>\n",
       "      <th>1</th>\n",
       "      <td>Albania</td>\n",
       "      <td>0.0</td>\n",
       "      <td>75.15625</td>\n",
       "      <td>45.0625</td>\n",
       "      <td>0.6875</td>\n",
       "      <td>4.848750</td>\n",
       "      <td>98.000000</td>\n",
       "      <td>53.3750</td>\n",
       "      <td>49.06875</td>\n",
       "      <td>0.9375</td>\n",
       "      <td>98.1250</td>\n",
       "      <td>98.0625</td>\n",
       "      <td>1.166938e+09</td>\n",
       "      <td>6.969116e+05</td>\n",
       "      <td>12.13750</td>\n",
       "    </tr>\n",
       "    <tr>\n",
       "      <th>2</th>\n",
       "      <td>Algeria</td>\n",
       "      <td>0.0</td>\n",
       "      <td>73.61875</td>\n",
       "      <td>108.1875</td>\n",
       "      <td>20.3125</td>\n",
       "      <td>0.406667</td>\n",
       "      <td>78.000000</td>\n",
       "      <td>1943.8750</td>\n",
       "      <td>48.74375</td>\n",
       "      <td>23.5000</td>\n",
       "      <td>91.7500</td>\n",
       "      <td>91.8750</td>\n",
       "      <td>7.345597e+10</td>\n",
       "      <td>2.164983e+07</td>\n",
       "      <td>12.71250</td>\n",
       "    </tr>\n",
       "    <tr>\n",
       "      <th>3</th>\n",
       "      <td>Angola</td>\n",
       "      <td>0.0</td>\n",
       "      <td>49.01875</td>\n",
       "      <td>328.5625</td>\n",
       "      <td>83.7500</td>\n",
       "      <td>5.740667</td>\n",
       "      <td>70.222222</td>\n",
       "      <td>3561.3125</td>\n",
       "      <td>18.01875</td>\n",
       "      <td>132.6250</td>\n",
       "      <td>46.1250</td>\n",
       "      <td>47.6875</td>\n",
       "      <td>2.177835e+10</td>\n",
       "      <td>1.014710e+07</td>\n",
       "      <td>8.04375</td>\n",
       "    </tr>\n",
       "    <tr>\n",
       "      <th>4</th>\n",
       "      <td>AntiguaandBarbuda</td>\n",
       "      <td>0.0</td>\n",
       "      <td>75.05625</td>\n",
       "      <td>127.5000</td>\n",
       "      <td>0.0000</td>\n",
       "      <td>7.949333</td>\n",
       "      <td>98.266667</td>\n",
       "      <td>0.0000</td>\n",
       "      <td>38.42500</td>\n",
       "      <td>0.0000</td>\n",
       "      <td>96.9375</td>\n",
       "      <td>98.3125</td>\n",
       "      <td>0.000000e+00</td>\n",
       "      <td>NaN</td>\n",
       "      <td>8.84375</td>\n",
       "    </tr>\n",
       "  </tbody>\n",
       "</table>\n",
       "</div>"
      ],
      "text/plain": [
       "             Country  isDeveloped  Lifeexpectancy  AdultMortality  \\\n",
       "0        Afghanistan          0.0        58.19375        269.0625   \n",
       "1            Albania          0.0        75.15625         45.0625   \n",
       "2            Algeria          0.0        73.61875        108.1875   \n",
       "3             Angola          0.0        49.01875        328.5625   \n",
       "4  AntiguaandBarbuda          0.0        75.05625        127.5000   \n",
       "\n",
       "   infantdeaths   Alcohol  HepatitisB    Measles       BMI  under-fivedeaths  \\\n",
       "0       78.2500  0.014375   64.562500  2362.2500  15.51875          107.5625   \n",
       "1        0.6875  4.848750   98.000000    53.3750  49.06875            0.9375   \n",
       "2       20.3125  0.406667   78.000000  1943.8750  48.74375           23.5000   \n",
       "3       83.7500  5.740667   70.222222  3561.3125  18.01875          132.6250   \n",
       "4        0.0000  7.949333   98.266667     0.0000  38.42500            0.0000   \n",
       "\n",
       "     Polio  Diphtheria           GDP    Population  Schooling  \n",
       "0  48.3750     52.3125  4.136734e+09  9.972260e+06    8.21250  \n",
       "1  98.1250     98.0625  1.166938e+09  6.969116e+05   12.13750  \n",
       "2  91.7500     91.8750  7.345597e+10  2.164983e+07   12.71250  \n",
       "3  46.1250     47.6875  2.177835e+10  1.014710e+07    8.04375  \n",
       "4  96.9375     98.3125  0.000000e+00           NaN    8.84375  "
      ]
     },
     "execution_count": 2,
     "metadata": {},
     "output_type": "execute_result"
    }
   ],
   "source": [
    "#Load data and do some cleanup before starting\n",
    "#Please don't change this stuff. \n",
    "dfLE = pd.read_csv(\"led.csv\")\n",
    "dfLE.rename(columns={\"Status\":\"isDeveloped\", }, inplace=True)\n",
    "dfLE[\"isDeveloped\"].replace(('Developed', 'Developing'), (1, 0), inplace=True)\n",
    "dfLE = dfLE.drop(columns={\"Year\", \"Incomecompositionofresources\", \"thinness5-9years\", \"HIV/AIDS\", \"percentageexpenditure\", \"Totalexpenditure\", \"thinness1-19years\"})\n",
    "dfLE = dfLE.groupby(\"Country\", as_index=False).mean()\n",
    "dfLE.head()\n"
   ]
  },
  {
   "cell_type": "markdown",
   "metadata": {},
   "source": [
    "<h2>Part 1: Add a column for GDP per Capita (5pts)</h2>\n",
    "\n",
    "Show print the labels along with just that column. Print 10 random rows of that data. \n",
    "\n",
    "Note: you'll have to look at the units to ensure you get it right. "
   ]
  },
  {
   "cell_type": "code",
   "execution_count": null,
   "metadata": {},
   "outputs": [],
   "source": [
    "#Part 1\n",
    "# The 47 countries without data on Population\n",
    "dfLE[dfLE['Population'].isnull()]['Country']"
   ]
  },
  {
   "cell_type": "code",
   "execution_count": null,
   "metadata": {},
   "outputs": [],
   "source": [
    "# No country without GDP data\n",
    "dfLE['GDP'].isnull().sum()"
   ]
  },
  {
   "cell_type": "code",
   "execution_count": null,
   "metadata": {},
   "outputs": [],
   "source": [
    "# Creating dfLE without the rows with null values of population\n",
    "dfLE_ready = dfLE[~dfLE['Population'].isnull()]\n",
    "dfLE_ready.head(10)"
   ]
  },
  {
   "cell_type": "code",
   "execution_count": null,
   "metadata": {},
   "outputs": [],
   "source": [
    "# Printing the first ten of the rows where the GDP-per-capita column is created\n",
    "dfLE['GDP_per_capita'] = ''\n",
    "dfLE['GDP_per_capita'] = dfLE_ready['GDP']/dfLE_ready['Population']\n",
    "dfLE.head(10)"
   ]
  },
  {
   "cell_type": "markdown",
   "metadata": {},
   "source": [
    "# The cell just below delivers what is asked in Part 1: ten (10) random rows of the column created for GDP per capita"
   ]
  },
  {
   "cell_type": "code",
   "execution_count": null,
   "metadata": {},
   "outputs": [],
   "source": [
    "dfLE.sample(10)[['Country', 'GDP_per_capita']]"
   ]
  },
  {
   "cell_type": "markdown",
   "metadata": {},
   "source": []
  },
  {
   "cell_type": "markdown",
   "metadata": {},
   "source": []
  },
  {
   "cell_type": "markdown",
   "metadata": {},
   "source": [
    "### Part 2: Print a visualization of each distribution. Both regular (density) and cumulative. (15pts)\n",
    "\n",
    "Print each distribution is some type of visualization, also print the cumulative distribution. \n",
    "<ul>\n",
    "<li>5 points are for using some visualization that is effective.\n",
    "<li>5 points for formatting things in a nice layout. Hint: for whatever chart you use, look into some formatting options. Think of what to try to Google for an example for printing multiple charts, a grid of charts, etc... and try to adapt one to yours. There is also a way to do it using some thinkstats/thinkplot stuff. \n",
    "<li><b>5 points are for doing it in an efficient way - just listing off each column is lots of typing... Remember, the #1 trait of programmers is laziness with respect to repetitive tasks. If we are doing the same thing over and over with tiny changes, try to think of a condensed way to do this...</b>\n",
    "</ul>"
   ]
  },
  {
   "cell_type": "code",
   "execution_count": null,
   "metadata": {},
   "outputs": [],
   "source": [
    "#Print all distributions\n",
    "#Filled all null values with the median\n",
    "dfLE_filled = dfLE.fillna(dfLE.median(numeric_only=True))\n",
    "dfLE_filled.head(10)"
   ]
  },
  {
   "cell_type": "code",
   "execution_count": null,
   "metadata": {},
   "outputs": [],
   "source": [
    "dfLE_filled_CountryNameRemoved = dfLE_filled.select_dtypes(include=['number'])\n",
    "dfLE_filled_CountryNameRemoved"
   ]
  },
  {
   "cell_type": "code",
   "execution_count": null,
   "metadata": {},
   "outputs": [],
   "source": [
    "#Print all distributions\n",
    "columns_to_plot = dfLE_filled_CountryNameRemoved.columns.tolist()\n",
    "\n",
    "numRows = int(np.ceil(len(columns_to_plot) / 4)) \n",
    "fig, axes = plt.subplots(numRows, 4, figsize=(20, 5*numRows))\n",
    "axes = axes.flatten()\n",
    "for i, col in enumerate(columns_to_plot):\n",
    "    sns.histplot(data=dfLE_filled_CountryNameRemoved, x=col, ax=axes[i], bins = 50, kde = True) \n",
    "    axes[i].set_title(f'histogram for : {col}')\n",
    "    axes[i].set_xlabel('value')"
   ]
  },
  {
   "cell_type": "code",
   "execution_count": null,
   "metadata": {},
   "outputs": [],
   "source": [
    "columns_to_plot = dfLE_filled_CountryNameRemoved.columns.tolist()\n",
    "\n",
    "numRows = int(np.ceil(len(columns_to_plot) / 4)) \n",
    "fig, axes = plt.subplots(numRows, 4, figsize=(20, 5*numRows))\n",
    "axes = axes.flatten()\n",
    "for i, col in enumerate(columns_to_plot):\n",
    "    sns.ecdfplot(data=dfLE_filled_CountryNameRemoved, ax=axes[i], x=col)\n",
    "    axes[i].set_title(f'CDF for : {col}')\n",
    "    axes[i].set_xlabel('value')"
   ]
  },
  {
   "cell_type": "markdown",
   "metadata": {},
   "source": [
    "### Create an analytical distribution for SCHOOLING, and use it for a couple of things. (20pts)\n",
    "\n",
    "<ul>\n",
    "<li>5 points are for choosing an appropriate distribution. Please state it clearly somewhere.\n",
    "<li>10 points are for creating and visualizing the distribution. Do it <b>without</b> using a fit() method. Plot the emperical data on the same graph as the analytical distribution. \n",
    "<li>5 points are for using the distribution to predict the percentage of that have a schooling level within 1 year of Canada. \n",
    "</ul>"
   ]
  },
  {
   "cell_type": "code",
   "execution_count": null,
   "metadata": {},
   "outputs": [],
   "source": [
    "#Empirical for Schooling\n",
    "\n",
    "sns.histplot(data=dfLE['Schooling'], bins = 10, kde=True)\n",
    "\n",
    "print('median', dfLE['Schooling'].median())\n",
    "print('mean', dfLE['Schooling'].mean())\n",
    "\n",
    "# Schooling histplot is almost normal but median > mean. It's really skews to the left by a bit."
   ]
  },
  {
   "cell_type": "code",
   "execution_count": null,
   "metadata": {},
   "outputs": [],
   "source": [
    "# Schooling to the power of pwr\n",
    "pwr = 1\n",
    "dSchPwrd = dfLE['Schooling']**pwr\n",
    "while dSchPwrd.median() > dSchPwrd.mean():\n",
    "    dSchPwrd = dfLE['Schooling']**pwr\n",
    "    pwr=pwr+0.001\n",
    "\n",
    "print('school years raised to the power of', round(pwr, 2))    \n",
    "print('median', dSchPwrd.median())\n",
    "print('mean', dSchPwrd.mean())\n",
    "\n",
    "sns.histplot(dSchPwrd, bins=20, kde=True) # more normal empirical distro: median and mean almost equal. "
   ]
  },
  {
   "cell_type": "code",
   "execution_count": null,
   "metadata": {},
   "outputs": [],
   "source": [
    "# Canada's schooling is 15.875 years. We'll then compute percentage of countries with schooling between 15.375 and 16.375. These are within 1 year of Canada's\n",
    "print(dfLE_filled[dfLE_filled['Country']=='Canada']['Schooling'])"
   ]
  },
  {
   "cell_type": "code",
   "execution_count": null,
   "metadata": {},
   "outputs": [],
   "source": [
    "#Empirical for Canada-like Schooling\n",
    "\n",
    "LessThanLow = dfLE[dfLE['Schooling'] < 15.375]['Schooling'].count() # number of countires less than lower limit for Schooling\n",
    "LessThanEqualHigh = dfLE[dfLE['Schooling'] <= 16.375]['Schooling'].count() # number of countires less than or equal to the upper limit for Schooling\n",
    "NotNullSchooling = dfLE[dfLE['Schooling'].isnull() == False]['Country'].count() # Countries with values for Schooling, not null.\n",
    "CanSchoolEmpirical = 100*(LessThanEqualHigh - LessThanLow)/NotNullSchooling\n",
    "\n",
    "print(LessThanEqualHigh)\n",
    "print(LessThanLow)\n",
    "print(NotNullSchooling)\n",
    "print(CanSchoolEmpirical)"
   ]
  },
  {
   "cell_type": "markdown",
   "metadata": {},
   "source": [
    "# Empirically, there's a 7.30% chance that a random country in this dataset will have a comparable number of years of schooling with Canada's (15.875 years), i.e. give or take half a year."
   ]
  },
  {
   "cell_type": "markdown",
   "metadata": {},
   "source": [
    "### Analytical for Schooling: generating random values given mean and std of empirical data"
   ]
  },
  {
   "cell_type": "code",
   "execution_count": null,
   "metadata": {},
   "outputs": [],
   "source": [
    "analyticaldata = ss.norm.rvs(size=100000, scale=np.std(dfLE['Schooling']**pwr), loc=np.mean(dfLE['Schooling']**pwr))\n",
    "print(analyticaldata)\n",
    "sns.histplot(data=analyticaldata, kde=True)"
   ]
  },
  {
   "cell_type": "code",
   "execution_count": null,
   "metadata": {},
   "outputs": [],
   "source": [
    "### Analytical for Schooling: counting how many of the randomly generated values were within one year of Canada's schooling years\n",
    "count=0\n",
    "i = 0\n",
    "while i < len(analyticaldata):\n",
    "    if analyticaldata[i] <= (16.375**pwr) and analyticaldata[i] >= (15.375**pwr):\n",
    "        count = count + 1\n",
    "        i=i+1\n",
    "    else:\n",
    "        i=i+1\n",
    "\n",
    "CanSchoolAnalytical = 100*count/len(analyticaldata)\n",
    "print('Analytical percentage', CanSchoolAnalytical)\n",
    "print('% error', 100*abs(CanSchoolAnalytical-CanSchoolEmpirical)/CanSchoolAnalytical)"
   ]
  },
  {
   "cell_type": "markdown",
   "metadata": {},
   "source": [
    "### Analytically, there's a 6 to 7 percent chance that a random country in our analytical distro has total years of schooling that is within half a year more or less than Canada's 15.875 years."
   ]
  },
  {
   "cell_type": "code",
   "execution_count": null,
   "metadata": {},
   "outputs": [],
   "source": []
  },
  {
   "cell_type": "markdown",
   "metadata": {},
   "source": []
  },
  {
   "cell_type": "markdown",
   "metadata": {},
   "source": [
    "### Part 3: Create another analytical distribution for GDP per Capita (20pts)\n",
    "\n",
    "<ul>\n",
    "<li>5 points are for choosing an appropriate distribution. Please state it clearly somewhere.\n",
    "<li>10 points are for creating and visualizing it alongside the emperical. You have free reign on how. \n",
    "<li>5 points are for using the analytical distribution to evaluate the quality of your GDP per capita metric - does it appear accurate? Why or why not?\n",
    "<li>If you've judged GDP per cap to be unreliable, drop it. \n",
    "</ul>"
   ]
  },
  {
   "cell_type": "code",
   "execution_count": null,
   "metadata": {},
   "outputs": [],
   "source": [
    "#Empirical for GDP/capita\n",
    "dGDPcap = dfLE['GDP_per_capita'].dropna()\n",
    "sns.histplot(data=dGDPcap, bins = 50, kde=True)\n",
    "\n",
    "print('median', dGDPcap.median())\n",
    "print('mean', dGDPcap.mean())\n",
    "print('mean squared', np.square(dGDPcap.mean()))\n",
    "print('variance', dGDPcap.var())\n",
    "print('skewness', ss.skew(dGDPcap))"
   ]
  },
  {
   "cell_type": "markdown",
   "metadata": {},
   "source": [
    "# Definitely right-skewed, meriting log transformation.  Its variance is very different from the square of its mean. Its skewness is far from 2. So, not exactly exponential. "
   ]
  },
  {
   "cell_type": "code",
   "execution_count": null,
   "metadata": {},
   "outputs": [],
   "source": [
    "#Empirical for GDP/capita: checking for log-normality\n",
    "islognormal = np.log(dGDPcap)\n",
    "sns.histplot(islognormal, bins = 50, kde =True)\n",
    "print('mean', islognormal.mean())\n",
    "print('median', islognormal.median())\n",
    "print('skew', ss.skew(islognormal))\n"
   ]
  },
  {
   "cell_type": "code",
   "execution_count": null,
   "metadata": {},
   "outputs": [],
   "source": [
    "#Analytical for GDP/capita\n",
    "# Here we generate analytical data for a lognormal distribution.\n",
    "# we superimpose the analytical and empirical distribution together\n",
    "yeslognormal_GDPcapita = np.random.lognormal(size=10000, mean=islognormal.mean(), sigma=islognormal.std())\n",
    "print(yeslognormal_GDPcapita)\n",
    "sns.ecdfplot(yeslognormal_GDPcapita)\n",
    "sns.ecdfplot(dGDPcap)"
   ]
  },
  {
   "cell_type": "code",
   "execution_count": null,
   "metadata": {},
   "outputs": [],
   "source": [
    "#Analytical for GDP/capita\n",
    "statistic, p_value = ss.kstest(islognormal, 'norm', args=(islognormal.mean(), islognormal.std()))\n",
    "print(f\"K-S Statistic: {statistic}\") \n",
    "print(f\"P-value: {p_value}\")"
   ]
  },
  {
   "cell_type": "markdown",
   "metadata": {},
   "source": [
    "### The P value is insignificant, way beyond 0.05. The K-S Statistic is also close to zero. These corroborate what's shown in the cdf graph of the analytical and empirical data above: the random values generated are very much like our original data. I'd keep GDP per capita."
   ]
  },
  {
   "cell_type": "markdown",
   "metadata": {},
   "source": [
    "# GDP per capita is more lognormal than exponential. The skew of the natural log of the dataset is close to zero. The mean and median of the natural log of the dataset are almost equal. So, lognormal it is."
   ]
  },
  {
   "cell_type": "markdown",
   "metadata": {},
   "source": []
  },
  {
   "cell_type": "markdown",
   "metadata": {},
   "source": []
  },
  {
   "cell_type": "markdown",
   "metadata": {},
   "source": [
    "### Part 4: Visually identify correlations. Separate developed and not developed countries is some way. (15pts)\n",
    "\n",
    "<ul>\n",
    "<li>5 points are for effectively and clearly showing the visualizations used to evaluate correlations.\n",
    "<li>10 points are for, in the process of visualizing, remove outliers that confound correlations. List outlier \"filters\" you used and justify why - was the data an error, a real value that is just way out of line, or somethingn else? Remember, you're trying to find things that have correlations with each other. Looking at a correlation between home size and income may not benefit from Jeff Bezos being included. It may be helpful to look at the results and revise. \n",
    "</ul>"
   ]
  },
  {
   "cell_type": "code",
   "execution_count": null,
   "metadata": {},
   "outputs": [],
   "source": [
    "#separating developed from developing countries\n",
    "dfLE_developed = dfLE_filled[dfLE_filled[\"isDeveloped\"] == 1]\n",
    "dfLE_notDeveloped = dfLE_filled[dfLE_filled[\"isDeveloped\"] == 0]"
   ]
  },
  {
   "cell_type": "code",
   "execution_count": null,
   "metadata": {},
   "outputs": [],
   "source": [
    "#Generating pairplot for the developed countries dataset\n",
    "sns.pairplot(dfLE_developed, dropna=True, kind = 'reg')\n",
    "plt.show()"
   ]
  },
  {
   "cell_type": "markdown",
   "metadata": {},
   "source": [
    "### Looking at the plots under the isDeveloped columns, some dots are really far from the clustering of all other dots. The rows for Diptheria, underfiveDeaths, BMI, Measles, Hepa B, Alcohol and infantDeaths all have outliers. You can pass a straight horizontal line through these outlying dots and skewer the same dot across all columns.  An upper or lower cutoff value will be set for each of these features. Same will be done for developping countries dataset below. We might have new outliers after the initial pruning but we can't just prune the data ad nauseam."
   ]
  },
  {
   "cell_type": "code",
   "execution_count": null,
   "metadata": {},
   "outputs": [],
   "source": [
    "## df2 = df2[(df2[\"height\"]>110) & (df2[\"height\"] < 200)] -- taken from our class examples\n",
    "# Removing those outliers, we get the new pairplots below.\n",
    "dfLE_developed = dfLE_developed[(dfLE_developed['Diphtheria'] > 80) & (dfLE_developed['under-fivedeaths'] < 30) & (dfLE_developed['BMI'] > 25) & (dfLE_developed['BMI'] < 65) & (dfLE_developed['Measles'] < 6875.8125) & (dfLE_developed['HepatitisB'] > 60) & (dfLE_developed['Alcohol'] > 5) & (dfLE_developed['infantdeaths'] < 20)]\n",
    "sns.pairplot(dfLE_developed, dropna=True, kind = 'reg')\n",
    "plt.show()"
   ]
  },
  {
   "cell_type": "code",
   "execution_count": null,
   "metadata": {},
   "outputs": [],
   "source": [
    "#Generating pairplot for developing countries dataset\n",
    "sns.pairplot(dfLE_notDeveloped, dropna=True, kind = 'reg')\n",
    "plt.show()"
   ]
  },
  {
   "cell_type": "code",
   "execution_count": null,
   "metadata": {},
   "outputs": [],
   "source": [
    "## df2 = df2[(df2[\"height\"]>110) & (df2[\"height\"] < 200)] -- taken from our class examples\n",
    "# Removing those outliers, we get the new pairplots below.\n",
    "dfLE_notDeveloped = dfLE_notDeveloped[(dfLE_notDeveloped['GDP'] < 200000000000) & (dfLE_notDeveloped['GDP_per_capita'] < 15000) & (dfLE_notDeveloped['Population'] < 200000000) & (dfLE_notDeveloped['under-fivedeaths'] < 1500) & (dfLE_notDeveloped['infantdeaths'] < 5000) & (dfLE_notDeveloped['Measles'] < 4000)]\n",
    "sns.pairplot(dfLE_notDeveloped, kind = 'reg')"
   ]
  },
  {
   "cell_type": "markdown",
   "metadata": {},
   "source": []
  },
  {
   "cell_type": "markdown",
   "metadata": {},
   "source": []
  },
  {
   "cell_type": "markdown",
   "metadata": {},
   "source": [
    "### Part 5: Calculate correlations (25pts)\n",
    "\n",
    "<ul>\n",
    "<li>5 points are for identifying and calculating 3 strongest correlations with life expectancy for each of developed and not developed. \n",
    "<li>10 points are for analyzing those correlations. Do they appear to be supported by reality? Do you have reason to beleive any are causal?\n",
    "<li>10 points are for identifying 2 places where developing and developed countries have a substantially different relationship with respect to life expectancy, and theorizing why. What would be needed to confirm your thoughts?\n",
    "</ul>\n",
    "\n",
    "<b>Please put your written parts in markdown cells, with a little formatting to make them readable. "
   ]
  },
  {
   "cell_type": "code",
   "execution_count": null,
   "metadata": {},
   "outputs": [],
   "source": [
    "#Calculate correlations and analyze. developed  countries\n",
    "print(dfLE_developed.corr(numeric_only=True))"
   ]
  },
  {
   "cell_type": "markdown",
   "metadata": {},
   "source": [
    "### For developed countries, Lifeexpectancy is most strongly correlated to GDP_per_capita, GDP, and Schooling. It is most negatively correlated to AdultMortality."
   ]
  },
  {
   "cell_type": "code",
   "execution_count": null,
   "metadata": {},
   "outputs": [],
   "source": [
    "#Calculate correlations and analyze. developing countries\n",
    "print(dfLE_notDeveloped.corr(numeric_only=True))"
   ]
  },
  {
   "cell_type": "markdown",
   "metadata": {},
   "source": [
    "### For developing countries, Schooling, Diphtheria, and Polio are the three most highly correlated with Lifeexpectancy. It is most negatively correlated to AdultMortality."
   ]
  },
  {
   "cell_type": "markdown",
   "metadata": {},
   "source": [
    "### Schooling and Lifeexpectancy go hand in hand in both developed and developing countries. But among developing countries, Schooling and these two vaccines (Diphtheria and Polio) and that for Hepa B also correlate among themselves. Unlike for developed countries, GDP and GDP per capita do not correlate with Life expectancy. A reasonable explanation that countries that spend for public services like Schooling and vaccines, including developing countries not having as much werewithal as developed countries, increase Lifexpectancy of their citizens. This is just one case perhaps that show why care must be taken when extrapolating causation from mere correlation. I'd be cautious against claims that these correlations are causal."
   ]
  },
  {
   "cell_type": "markdown",
   "metadata": {},
   "source": [
    "### Counterintutively, Diphtheria and Polio are negatively correlated to Lifeexpectancy among developed countries. This is the total opposite among developing countries. "
   ]
  }
 ],
 "metadata": {
  "kernelspec": {
   "display_name": "Python 3",
   "language": "python",
   "name": "python3"
  },
  "language_info": {
   "codemirror_mode": {
    "name": "ipython",
    "version": 3
   },
   "file_extension": ".py",
   "mimetype": "text/x-python",
   "name": "python",
   "nbconvert_exporter": "python",
   "pygments_lexer": "ipython3",
   "version": "3.11.9"
  },
  "orig_nbformat": 4
 },
 "nbformat": 4,
 "nbformat_minor": 2
}
